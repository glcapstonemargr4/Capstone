{
  "nbformat": 4,
  "nbformat_minor": 0,
  "metadata": {
    "kernelspec": {
      "display_name": "Python 3",
      "language": "python",
      "name": "python3"
    },
    "language_info": {
      "codemirror_mode": {
        "name": "ipython",
        "version": 3
      },
      "file_extension": ".py",
      "mimetype": "text/x-python",
      "name": "python",
      "nbconvert_exporter": "python",
      "pygments_lexer": "ipython3",
      "version": "3.7.4"
    },
    "colab": {
      "name": "SSDmodel_karthick.ipynb",
      "provenance": [],
      "collapsed_sections": []
    }
  },
  "cells": [
    {
      "cell_type": "markdown",
      "metadata": {
        "id": "KkGKLB4J2RS3"
      },
      "source": [
        "SSD7 MODEL"
      ]
    },
    {
      "cell_type": "code",
      "metadata": {
        "colab": {
          "base_uri": "https://localhost:8080/"
        },
        "id": "fROPrYJXYG9Y",
        "outputId": "ea3da554-4007-4bfd-d053-8b2c45f7fd5f"
      },
      "source": [
        "from google.colab import drive\r\n",
        "drive.mount('/content/drive')"
      ],
      "execution_count": 2,
      "outputs": [
        {
          "output_type": "stream",
          "text": [
            "Drive already mounted at /content/drive; to attempt to forcibly remount, call drive.mount(\"/content/drive\", force_remount=True).\n"
          ],
          "name": "stdout"
        }
      ]
    },
    {
      "cell_type": "code",
      "metadata": {
        "id": "mlMGz4_pYU9a"
      },
      "source": [
        "proj_path = \"/content/drive/My Drive/AIML/data/capstone/\"\r\n",
        "\r\n",
        "import os, sys # 2nd way\r\n",
        "os.chdir(proj_path)\r\n",
        "\r\n",
        "# Add the path to the sys.path for this session\r\n",
        "sys.path.append(proj_path)\r\n"
      ],
      "execution_count": 3,
      "outputs": []
    },
    {
      "cell_type": "code",
      "metadata": {
        "id": "W-UlNKNOYYx1",
        "colab": {
          "base_uri": "https://localhost:8080/"
        },
        "outputId": "b198e2fa-e807-4f40-a74f-4c75a89289e5"
      },
      "source": [
        "pip install pydicom"
      ],
      "execution_count": 4,
      "outputs": [
        {
          "output_type": "stream",
          "text": [
            "Collecting pydicom\n",
            "\u001b[?25l  Downloading https://files.pythonhosted.org/packages/f4/15/df16546bc59bfca390cf072d473fb2c8acd4231636f64356593a63137e55/pydicom-2.1.2-py3-none-any.whl (1.9MB)\n",
            "\u001b[K     |████████████████████████████████| 1.9MB 4.4MB/s \n",
            "\u001b[?25hInstalling collected packages: pydicom\n",
            "Successfully installed pydicom-2.1.2\n"
          ],
          "name": "stdout"
        }
      ]
    },
    {
      "cell_type": "code",
      "metadata": {
        "colab": {
          "base_uri": "https://localhost:8080/"
        },
        "id": "J7i703KdYAUv",
        "outputId": "05a9d7ed-123f-4ba3-eb35-ff8b5a596f81"
      },
      "source": [
        "# Imports\n",
        "import pandas as pd, numpy as np, matplotlib.pyplot as plt, sklearn, re, random\n",
        "\n",
        "import pandas as pd \n",
        "import numpy as np\n",
        "import matplotlib\n",
        "import matplotlib.pyplot as plt\n",
        "from matplotlib.patches import Rectangle\n",
        "import seaborn as sns\n",
        "import pydicom as dcm\n",
        "%matplotlib inline\n",
        "\n",
        "import matplotlib.gridspec as gridspec\n",
        "from tqdm.notebook import tqdm\n",
        "import tensorflow, cv2\n",
        "%matplotlib inline\n",
        "\n",
        "# Extract content from zipfile\n",
        "from zipfile import ZipFile\n",
        "\n",
        "# Model\n",
        "from tensorflow.keras.layers import ZeroPadding2D, Convolution2D, MaxPooling2D, Dropout, Flatten, Activation\n",
        "from tensorflow.keras.models import Sequential, Model\n",
        "from sklearn.svm import SVC\n",
        "\n",
        "# Encode, standardize and PCA\n",
        "from sklearn.metrics import classification_report, confusion_matrix, accuracy_score\n",
        "from sklearn.model_selection import RandomizedSearchCV, GridSearchCV\n",
        "from sklearn.preprocessing import LabelEncoder, StandardScaler\n",
        "from sklearn.decomposition import PCA\n",
        "\n",
        "# Set random_state\n",
        "random_state = 2020\n",
        "\n",
        "# Suppress warnings, if any\n",
        "import warnings; warnings.filterwarnings('ignore')\n",
        "\n",
        "# Print versions\n",
        "print(f'Pandas version: {pd.__version__}')\n",
        "print(f'Numpy version: {np.__version__}')\n",
        "print(f'Scikit-learn version: {sklearn.__version__}')\n",
        "print(f'Tensorflow version: {tensorflow.__version__}')\n",
        "print(f'CV version: {cv2.__version__}')"
      ],
      "execution_count": 5,
      "outputs": [
        {
          "output_type": "stream",
          "text": [
            "Pandas version: 1.1.5\n",
            "Numpy version: 1.19.5\n",
            "Scikit-learn version: 0.22.2.post1\n",
            "Tensorflow version: 2.4.1\n",
            "CV version: 4.1.2\n"
          ],
          "name": "stdout"
        }
      ]
    },
    {
      "cell_type": "code",
      "metadata": {
        "id": "SQyf2985YAUy"
      },
      "source": [
        "class_info_df = pd.read_csv('stage_2_detailed_class_info.csv')\n",
        "train_labels_df = pd.read_csv('stage_2_train_labels.csv') "
      ],
      "execution_count": 6,
      "outputs": []
    },
    {
      "cell_type": "code",
      "metadata": {
        "colab": {
          "base_uri": "https://localhost:8080/",
          "height": 204
        },
        "id": "Jh9JSOa0mJPY",
        "outputId": "09ff7b69-419f-4071-9198-80b45c6fc660"
      },
      "source": [
        "train_labels_df.head()"
      ],
      "execution_count": 7,
      "outputs": [
        {
          "output_type": "execute_result",
          "data": {
            "text/html": [
              "<div>\n",
              "<style scoped>\n",
              "    .dataframe tbody tr th:only-of-type {\n",
              "        vertical-align: middle;\n",
              "    }\n",
              "\n",
              "    .dataframe tbody tr th {\n",
              "        vertical-align: top;\n",
              "    }\n",
              "\n",
              "    .dataframe thead th {\n",
              "        text-align: right;\n",
              "    }\n",
              "</style>\n",
              "<table border=\"1\" class=\"dataframe\">\n",
              "  <thead>\n",
              "    <tr style=\"text-align: right;\">\n",
              "      <th></th>\n",
              "      <th>patientId</th>\n",
              "      <th>x</th>\n",
              "      <th>y</th>\n",
              "      <th>width</th>\n",
              "      <th>height</th>\n",
              "      <th>Target</th>\n",
              "    </tr>\n",
              "  </thead>\n",
              "  <tbody>\n",
              "    <tr>\n",
              "      <th>0</th>\n",
              "      <td>0004cfab-14fd-4e49-80ba-63a80b6bddd6</td>\n",
              "      <td>NaN</td>\n",
              "      <td>NaN</td>\n",
              "      <td>NaN</td>\n",
              "      <td>NaN</td>\n",
              "      <td>0</td>\n",
              "    </tr>\n",
              "    <tr>\n",
              "      <th>1</th>\n",
              "      <td>00313ee0-9eaa-42f4-b0ab-c148ed3241cd</td>\n",
              "      <td>NaN</td>\n",
              "      <td>NaN</td>\n",
              "      <td>NaN</td>\n",
              "      <td>NaN</td>\n",
              "      <td>0</td>\n",
              "    </tr>\n",
              "    <tr>\n",
              "      <th>2</th>\n",
              "      <td>00322d4d-1c29-4943-afc9-b6754be640eb</td>\n",
              "      <td>NaN</td>\n",
              "      <td>NaN</td>\n",
              "      <td>NaN</td>\n",
              "      <td>NaN</td>\n",
              "      <td>0</td>\n",
              "    </tr>\n",
              "    <tr>\n",
              "      <th>3</th>\n",
              "      <td>003d8fa0-6bf1-40ed-b54c-ac657f8495c5</td>\n",
              "      <td>NaN</td>\n",
              "      <td>NaN</td>\n",
              "      <td>NaN</td>\n",
              "      <td>NaN</td>\n",
              "      <td>0</td>\n",
              "    </tr>\n",
              "    <tr>\n",
              "      <th>4</th>\n",
              "      <td>00436515-870c-4b36-a041-de91049b9ab4</td>\n",
              "      <td>264.0</td>\n",
              "      <td>152.0</td>\n",
              "      <td>213.0</td>\n",
              "      <td>379.0</td>\n",
              "      <td>1</td>\n",
              "    </tr>\n",
              "  </tbody>\n",
              "</table>\n",
              "</div>"
            ],
            "text/plain": [
              "                              patientId      x      y  width  height  Target\n",
              "0  0004cfab-14fd-4e49-80ba-63a80b6bddd6    NaN    NaN    NaN     NaN       0\n",
              "1  00313ee0-9eaa-42f4-b0ab-c148ed3241cd    NaN    NaN    NaN     NaN       0\n",
              "2  00322d4d-1c29-4943-afc9-b6754be640eb    NaN    NaN    NaN     NaN       0\n",
              "3  003d8fa0-6bf1-40ed-b54c-ac657f8495c5    NaN    NaN    NaN     NaN       0\n",
              "4  00436515-870c-4b36-a041-de91049b9ab4  264.0  152.0  213.0   379.0       1"
            ]
          },
          "metadata": {
            "tags": []
          },
          "execution_count": 7
        }
      ]
    },
    {
      "cell_type": "code",
      "metadata": {
        "colab": {
          "base_uri": "https://localhost:8080/"
        },
        "id": "NzNjwoZAYAUz",
        "outputId": "01e410c9-ea22-42b1-9204-65619dae5561"
      },
      "source": [
        "print(f\"Detailed class info -  rows: {class_info_df.shape[0]}, columns: {class_info_df.shape[1]}\")\n",
        "print(f\"Train labels -  rows: {train_labels_df.shape[0]}, columns: {train_labels_df.shape[1]}\")"
      ],
      "execution_count": 8,
      "outputs": [
        {
          "output_type": "stream",
          "text": [
            "Detailed class info -  rows: 30227, columns: 2\n",
            "Train labels -  rows: 30227, columns: 6\n"
          ],
          "name": "stdout"
        }
      ]
    },
    {
      "cell_type": "code",
      "metadata": {
        "colab": {
          "base_uri": "https://localhost:8080/",
          "height": 204
        },
        "id": "-EZdYKeQYAUz",
        "outputId": "c5809138-7963-4d02-bdde-12f5d34bcd7b"
      },
      "source": [
        "merge_train_df = train_labels_df.merge(class_info_df, left_on='patientId', right_on='patientId', how='inner')\n",
        "\n",
        "merge_train_df.head()"
      ],
      "execution_count": 9,
      "outputs": [
        {
          "output_type": "execute_result",
          "data": {
            "text/html": [
              "<div>\n",
              "<style scoped>\n",
              "    .dataframe tbody tr th:only-of-type {\n",
              "        vertical-align: middle;\n",
              "    }\n",
              "\n",
              "    .dataframe tbody tr th {\n",
              "        vertical-align: top;\n",
              "    }\n",
              "\n",
              "    .dataframe thead th {\n",
              "        text-align: right;\n",
              "    }\n",
              "</style>\n",
              "<table border=\"1\" class=\"dataframe\">\n",
              "  <thead>\n",
              "    <tr style=\"text-align: right;\">\n",
              "      <th></th>\n",
              "      <th>patientId</th>\n",
              "      <th>x</th>\n",
              "      <th>y</th>\n",
              "      <th>width</th>\n",
              "      <th>height</th>\n",
              "      <th>Target</th>\n",
              "      <th>class</th>\n",
              "    </tr>\n",
              "  </thead>\n",
              "  <tbody>\n",
              "    <tr>\n",
              "      <th>0</th>\n",
              "      <td>0004cfab-14fd-4e49-80ba-63a80b6bddd6</td>\n",
              "      <td>NaN</td>\n",
              "      <td>NaN</td>\n",
              "      <td>NaN</td>\n",
              "      <td>NaN</td>\n",
              "      <td>0</td>\n",
              "      <td>No Lung Opacity / Not Normal</td>\n",
              "    </tr>\n",
              "    <tr>\n",
              "      <th>1</th>\n",
              "      <td>00313ee0-9eaa-42f4-b0ab-c148ed3241cd</td>\n",
              "      <td>NaN</td>\n",
              "      <td>NaN</td>\n",
              "      <td>NaN</td>\n",
              "      <td>NaN</td>\n",
              "      <td>0</td>\n",
              "      <td>No Lung Opacity / Not Normal</td>\n",
              "    </tr>\n",
              "    <tr>\n",
              "      <th>2</th>\n",
              "      <td>00322d4d-1c29-4943-afc9-b6754be640eb</td>\n",
              "      <td>NaN</td>\n",
              "      <td>NaN</td>\n",
              "      <td>NaN</td>\n",
              "      <td>NaN</td>\n",
              "      <td>0</td>\n",
              "      <td>No Lung Opacity / Not Normal</td>\n",
              "    </tr>\n",
              "    <tr>\n",
              "      <th>3</th>\n",
              "      <td>003d8fa0-6bf1-40ed-b54c-ac657f8495c5</td>\n",
              "      <td>NaN</td>\n",
              "      <td>NaN</td>\n",
              "      <td>NaN</td>\n",
              "      <td>NaN</td>\n",
              "      <td>0</td>\n",
              "      <td>Normal</td>\n",
              "    </tr>\n",
              "    <tr>\n",
              "      <th>4</th>\n",
              "      <td>00436515-870c-4b36-a041-de91049b9ab4</td>\n",
              "      <td>264.0</td>\n",
              "      <td>152.0</td>\n",
              "      <td>213.0</td>\n",
              "      <td>379.0</td>\n",
              "      <td>1</td>\n",
              "      <td>Lung Opacity</td>\n",
              "    </tr>\n",
              "  </tbody>\n",
              "</table>\n",
              "</div>"
            ],
            "text/plain": [
              "                              patientId  ...                         class\n",
              "0  0004cfab-14fd-4e49-80ba-63a80b6bddd6  ...  No Lung Opacity / Not Normal\n",
              "1  00313ee0-9eaa-42f4-b0ab-c148ed3241cd  ...  No Lung Opacity / Not Normal\n",
              "2  00322d4d-1c29-4943-afc9-b6754be640eb  ...  No Lung Opacity / Not Normal\n",
              "3  003d8fa0-6bf1-40ed-b54c-ac657f8495c5  ...                        Normal\n",
              "4  00436515-870c-4b36-a041-de91049b9ab4  ...                  Lung Opacity\n",
              "\n",
              "[5 rows x 7 columns]"
            ]
          },
          "metadata": {
            "tags": []
          },
          "execution_count": 9
        }
      ]
    },
    {
      "cell_type": "code",
      "metadata": {
        "id": "kHOeu8eYYAU0"
      },
      "source": [
        "#merge_bb_df = merge_train_df.drop(columns = [\"patientId\", \"class\"])\n",
        "\n",
        "## Impute NaN with KNN mean\n",
        "#from sklearn.impute import KNNImputer\n",
        "#imputer = KNNImputer(n_neighbors=2)\n",
        "#merge_bb_imputed_df = imputer.fit_transform(merge_bb_df)\n",
        "\n",
        "## Converted array to dataframe\n",
        "#merge_bb_final = pd.DataFrame(data=merge_bb_imputed_df, columns=[\"x\", \"y\", \"width\", \"height\", \"Target\"])\n",
        "#merge_bb_final[\"Target\"] = merge_bb_final[\"Target\"].astype('int64')\n",
        "#merge_bb_final.head(5)"
      ],
      "execution_count": 10,
      "outputs": []
    },
    {
      "cell_type": "code",
      "metadata": {
        "colab": {
          "base_uri": "https://localhost:8080/",
          "height": 211
        },
        "id": "0JnOPRzt21k9",
        "outputId": "9db255b2-ae20-426b-9e83-879bd275d2c5"
      },
      "source": [
        "samplePatientID = list(merge_train_df[:3].T.to_dict().values())[0]['patientId']\r\n",
        "samplePatientID = samplePatientID+'.dcm'\r\n",
        "dicom_file_path = os.path.join('stage_2_train_images',samplePatientID)\r\n",
        "dicom_file_dataset = dcm.read_file(dicom_file_path)\r\n",
        "\r\n",
        "im = dicom_file_dataset.pixel_array\r\n",
        "\r\n",
        "pl, ax = plt.subplots(nrows=1,figsize=(6,3))\r\n",
        "plt.imshow(im, cmap=plt.cm.gist_gray)\r\n",
        "plt.gray()\r\n",
        "plt.axis('off')\r\n",
        "im.shape"
      ],
      "execution_count": 12,
      "outputs": [
        {
          "output_type": "execute_result",
          "data": {
            "text/plain": [
              "(1024, 1024)"
            ]
          },
          "metadata": {
            "tags": []
          },
          "execution_count": 12
        },
        {
          "output_type": "display_data",
          "data": {
            "image/png": "[encoded data removed]",
            "text/plain": [
              "<Figure size 432x216 with 1 Axes>"
            ]
          },
          "metadata": {
            "tags": [],
            "needs_background": "light"
          }
        }
      ]
    },
    {
      "cell_type": "code",
      "metadata": {
        "id": "SmIhNFAn1-To"
      },
      "source": [
        " def transform_boxes(boxes):\r\n",
        "        image_height, image_width = (256,256)\r\n",
        "        datum=pd.DataFrame()\r\n",
        "        datum['xmin'] = (boxes['x'] - (boxes['width']) / 2) * (image_width / 1024)\r\n",
        "        datum['ymin'] = (boxes['y'] - (boxes['height']) / 2) * (image_height / 1024)\r\n",
        "        datum['xmax'] = (boxes['x'] + (boxes['width']) / 2) * (image_width / 1024)\r\n",
        "        datum['ymax'] = (boxes['y'] + (boxes['height']) / 2) * (image_height / 1024)\r\n",
        "        \r\n",
        "        return (datum)\r\n",
        "\r\n",
        "\r\n",
        " def transform_boxes1(boxes):\r\n",
        "        datum=pd.DataFrame()\r\n",
        "        datum['xmin'] = boxes['x']\r\n",
        "        datum['ymin'] = boxes['y']\r\n",
        "        datum['xmax']=boxes['x']+boxes['width']\r\n",
        "        datum['ymax']=boxes['y']+boxes['height']\r\n",
        "        return (datum)"
      ],
      "execution_count": 264,
      "outputs": []
    },
    {
      "cell_type": "code",
      "metadata": {
        "colab": {
          "base_uri": "https://localhost:8080/",
          "height": 419
        },
        "id": "pkUB_9Uq2G6E",
        "outputId": "d3295b26-4ef1-45b9-f366-4b3fd513ebd1"
      },
      "source": [
        "boxes1= merge_train_df.loc[(merge_train_df['Target']==1)]\r\n",
        "boxes1 = boxes1.dropna()[['x', 'y', 'width', 'height']].astype(int)\r\n",
        "boxes1"
      ],
      "execution_count": 265,
      "outputs": [
        {
          "output_type": "execute_result",
          "data": {
            "text/html": [
              "<div>\n",
              "<style scoped>\n",
              "    .dataframe tbody tr th:only-of-type {\n",
              "        vertical-align: middle;\n",
              "    }\n",
              "\n",
              "    .dataframe tbody tr th {\n",
              "        vertical-align: top;\n",
              "    }\n",
              "\n",
              "    .dataframe thead th {\n",
              "        text-align: right;\n",
              "    }\n",
              "</style>\n",
              "<table border=\"1\" class=\"dataframe\">\n",
              "  <thead>\n",
              "    <tr style=\"text-align: right;\">\n",
              "      <th></th>\n",
              "      <th>x</th>\n",
              "      <th>y</th>\n",
              "      <th>width</th>\n",
              "      <th>height</th>\n",
              "    </tr>\n",
              "  </thead>\n",
              "  <tbody>\n",
              "    <tr>\n",
              "      <th>4</th>\n",
              "      <td>264</td>\n",
              "      <td>152</td>\n",
              "      <td>213</td>\n",
              "      <td>379</td>\n",
              "    </tr>\n",
              "    <tr>\n",
              "      <th>5</th>\n",
              "      <td>264</td>\n",
              "      <td>152</td>\n",
              "      <td>213</td>\n",
              "      <td>379</td>\n",
              "    </tr>\n",
              "    <tr>\n",
              "      <th>6</th>\n",
              "      <td>562</td>\n",
              "      <td>152</td>\n",
              "      <td>256</td>\n",
              "      <td>453</td>\n",
              "    </tr>\n",
              "    <tr>\n",
              "      <th>7</th>\n",
              "      <td>562</td>\n",
              "      <td>152</td>\n",
              "      <td>256</td>\n",
              "      <td>453</td>\n",
              "    </tr>\n",
              "    <tr>\n",
              "      <th>10</th>\n",
              "      <td>323</td>\n",
              "      <td>577</td>\n",
              "      <td>160</td>\n",
              "      <td>104</td>\n",
              "    </tr>\n",
              "    <tr>\n",
              "      <th>...</th>\n",
              "      <td>...</td>\n",
              "      <td>...</td>\n",
              "      <td>...</td>\n",
              "      <td>...</td>\n",
              "    </tr>\n",
              "    <tr>\n",
              "      <th>37622</th>\n",
              "      <td>185</td>\n",
              "      <td>298</td>\n",
              "      <td>228</td>\n",
              "      <td>379</td>\n",
              "    </tr>\n",
              "    <tr>\n",
              "      <th>37625</th>\n",
              "      <td>570</td>\n",
              "      <td>393</td>\n",
              "      <td>261</td>\n",
              "      <td>345</td>\n",
              "    </tr>\n",
              "    <tr>\n",
              "      <th>37626</th>\n",
              "      <td>570</td>\n",
              "      <td>393</td>\n",
              "      <td>261</td>\n",
              "      <td>345</td>\n",
              "    </tr>\n",
              "    <tr>\n",
              "      <th>37627</th>\n",
              "      <td>233</td>\n",
              "      <td>424</td>\n",
              "      <td>201</td>\n",
              "      <td>356</td>\n",
              "    </tr>\n",
              "    <tr>\n",
              "      <th>37628</th>\n",
              "      <td>233</td>\n",
              "      <td>424</td>\n",
              "      <td>201</td>\n",
              "      <td>356</td>\n",
              "    </tr>\n",
              "  </tbody>\n",
              "</table>\n",
              "<p>16957 rows × 4 columns</p>\n",
              "</div>"
            ],
            "text/plain": [
              "         x    y  width  height\n",
              "4      264  152    213     379\n",
              "5      264  152    213     379\n",
              "6      562  152    256     453\n",
              "7      562  152    256     453\n",
              "10     323  577    160     104\n",
              "...    ...  ...    ...     ...\n",
              "37622  185  298    228     379\n",
              "37625  570  393    261     345\n",
              "37626  570  393    261     345\n",
              "37627  233  424    201     356\n",
              "37628  233  424    201     356\n",
              "\n",
              "[16957 rows x 4 columns]"
            ]
          },
          "metadata": {
            "tags": []
          },
          "execution_count": 265
        }
      ]
    },
    {
      "cell_type": "code",
      "metadata": {
        "colab": {
          "base_uri": "https://localhost:8080/",
          "height": 419
        },
        "id": "cRhIGGir3hdA",
        "outputId": "3768a8cb-0638-42c8-f4b3-10e2ee30834c"
      },
      "source": [
        " bbox = transform_boxes(boxes1)\r\n",
        " bbox.astype(int)"
      ],
      "execution_count": 266,
      "outputs": [
        {
          "output_type": "execute_result",
          "data": {
            "text/html": [
              "<div>\n",
              "<style scoped>\n",
              "    .dataframe tbody tr th:only-of-type {\n",
              "        vertical-align: middle;\n",
              "    }\n",
              "\n",
              "    .dataframe tbody tr th {\n",
              "        vertical-align: top;\n",
              "    }\n",
              "\n",
              "    .dataframe thead th {\n",
              "        text-align: right;\n",
              "    }\n",
              "</style>\n",
              "<table border=\"1\" class=\"dataframe\">\n",
              "  <thead>\n",
              "    <tr style=\"text-align: right;\">\n",
              "      <th></th>\n",
              "      <th>xmin</th>\n",
              "      <th>ymin</th>\n",
              "      <th>xmax</th>\n",
              "      <th>ymax</th>\n",
              "    </tr>\n",
              "  </thead>\n",
              "  <tbody>\n",
              "    <tr>\n",
              "      <th>4</th>\n",
              "      <td>39</td>\n",
              "      <td>-9</td>\n",
              "      <td>92</td>\n",
              "      <td>85</td>\n",
              "    </tr>\n",
              "    <tr>\n",
              "      <th>5</th>\n",
              "      <td>39</td>\n",
              "      <td>-9</td>\n",
              "      <td>92</td>\n",
              "      <td>85</td>\n",
              "    </tr>\n",
              "    <tr>\n",
              "      <th>6</th>\n",
              "      <td>108</td>\n",
              "      <td>-18</td>\n",
              "      <td>172</td>\n",
              "      <td>94</td>\n",
              "    </tr>\n",
              "    <tr>\n",
              "      <th>7</th>\n",
              "      <td>108</td>\n",
              "      <td>-18</td>\n",
              "      <td>172</td>\n",
              "      <td>94</td>\n",
              "    </tr>\n",
              "    <tr>\n",
              "      <th>10</th>\n",
              "      <td>60</td>\n",
              "      <td>131</td>\n",
              "      <td>100</td>\n",
              "      <td>157</td>\n",
              "    </tr>\n",
              "    <tr>\n",
              "      <th>...</th>\n",
              "      <td>...</td>\n",
              "      <td>...</td>\n",
              "      <td>...</td>\n",
              "      <td>...</td>\n",
              "    </tr>\n",
              "    <tr>\n",
              "      <th>37622</th>\n",
              "      <td>17</td>\n",
              "      <td>27</td>\n",
              "      <td>74</td>\n",
              "      <td>121</td>\n",
              "    </tr>\n",
              "    <tr>\n",
              "      <th>37625</th>\n",
              "      <td>109</td>\n",
              "      <td>55</td>\n",
              "      <td>175</td>\n",
              "      <td>141</td>\n",
              "    </tr>\n",
              "    <tr>\n",
              "      <th>37626</th>\n",
              "      <td>109</td>\n",
              "      <td>55</td>\n",
              "      <td>175</td>\n",
              "      <td>141</td>\n",
              "    </tr>\n",
              "    <tr>\n",
              "      <th>37627</th>\n",
              "      <td>33</td>\n",
              "      <td>61</td>\n",
              "      <td>83</td>\n",
              "      <td>150</td>\n",
              "    </tr>\n",
              "    <tr>\n",
              "      <th>37628</th>\n",
              "      <td>33</td>\n",
              "      <td>61</td>\n",
              "      <td>83</td>\n",
              "      <td>150</td>\n",
              "    </tr>\n",
              "  </tbody>\n",
              "</table>\n",
              "<p>16957 rows × 4 columns</p>\n",
              "</div>"
            ],
            "text/plain": [
              "       xmin  ymin  xmax  ymax\n",
              "4        39    -9    92    85\n",
              "5        39    -9    92    85\n",
              "6       108   -18   172    94\n",
              "7       108   -18   172    94\n",
              "10       60   131   100   157\n",
              "...     ...   ...   ...   ...\n",
              "37622    17    27    74   121\n",
              "37625   109    55   175   141\n",
              "37626   109    55   175   141\n",
              "37627    33    61    83   150\n",
              "37628    33    61    83   150\n",
              "\n",
              "[16957 rows x 4 columns]"
            ]
          },
          "metadata": {
            "tags": []
          },
          "execution_count": 266
        }
      ]
    },
    {
      "cell_type": "code",
      "metadata": {
        "colab": {
          "base_uri": "https://localhost:8080/",
          "height": 419
        },
        "id": "L4wTaiacYAU1",
        "outputId": "ac4eb367-337f-4494-9e66-f03ab2001fde"
      },
      "source": [
        "tmp = merge_train_df[[\"patientId\", \"class\", \"Target\"]]\n",
        "train_labels_data = pd.merge(tmp, bbox.astype(int), how= 'outer', left_index=True, right_index=True)\n",
        "train_labels_data.drop_duplicates()\n"
      ],
      "execution_count": 267,
      "outputs": [
        {
          "output_type": "execute_result",
          "data": {
            "text/html": [
              "<div>\n",
              "<style scoped>\n",
              "    .dataframe tbody tr th:only-of-type {\n",
              "        vertical-align: middle;\n",
              "    }\n",
              "\n",
              "    .dataframe tbody tr th {\n",
              "        vertical-align: top;\n",
              "    }\n",
              "\n",
              "    .dataframe thead th {\n",
              "        text-align: right;\n",
              "    }\n",
              "</style>\n",
              "<table border=\"1\" class=\"dataframe\">\n",
              "  <thead>\n",
              "    <tr style=\"text-align: right;\">\n",
              "      <th></th>\n",
              "      <th>patientId</th>\n",
              "      <th>class</th>\n",
              "      <th>Target</th>\n",
              "      <th>xmin</th>\n",
              "      <th>ymin</th>\n",
              "      <th>xmax</th>\n",
              "      <th>ymax</th>\n",
              "    </tr>\n",
              "  </thead>\n",
              "  <tbody>\n",
              "    <tr>\n",
              "      <th>0</th>\n",
              "      <td>0004cfab-14fd-4e49-80ba-63a80b6bddd6</td>\n",
              "      <td>No Lung Opacity / Not Normal</td>\n",
              "      <td>0</td>\n",
              "      <td>NaN</td>\n",
              "      <td>NaN</td>\n",
              "      <td>NaN</td>\n",
              "      <td>NaN</td>\n",
              "    </tr>\n",
              "    <tr>\n",
              "      <th>1</th>\n",
              "      <td>00313ee0-9eaa-42f4-b0ab-c148ed3241cd</td>\n",
              "      <td>No Lung Opacity / Not Normal</td>\n",
              "      <td>0</td>\n",
              "      <td>NaN</td>\n",
              "      <td>NaN</td>\n",
              "      <td>NaN</td>\n",
              "      <td>NaN</td>\n",
              "    </tr>\n",
              "    <tr>\n",
              "      <th>2</th>\n",
              "      <td>00322d4d-1c29-4943-afc9-b6754be640eb</td>\n",
              "      <td>No Lung Opacity / Not Normal</td>\n",
              "      <td>0</td>\n",
              "      <td>NaN</td>\n",
              "      <td>NaN</td>\n",
              "      <td>NaN</td>\n",
              "      <td>NaN</td>\n",
              "    </tr>\n",
              "    <tr>\n",
              "      <th>3</th>\n",
              "      <td>003d8fa0-6bf1-40ed-b54c-ac657f8495c5</td>\n",
              "      <td>Normal</td>\n",
              "      <td>0</td>\n",
              "      <td>NaN</td>\n",
              "      <td>NaN</td>\n",
              "      <td>NaN</td>\n",
              "      <td>NaN</td>\n",
              "    </tr>\n",
              "    <tr>\n",
              "      <th>4</th>\n",
              "      <td>00436515-870c-4b36-a041-de91049b9ab4</td>\n",
              "      <td>Lung Opacity</td>\n",
              "      <td>1</td>\n",
              "      <td>39.0</td>\n",
              "      <td>-9.0</td>\n",
              "      <td>92.0</td>\n",
              "      <td>85.0</td>\n",
              "    </tr>\n",
              "    <tr>\n",
              "      <th>...</th>\n",
              "      <td>...</td>\n",
              "      <td>...</td>\n",
              "      <td>...</td>\n",
              "      <td>...</td>\n",
              "      <td>...</td>\n",
              "      <td>...</td>\n",
              "      <td>...</td>\n",
              "    </tr>\n",
              "    <tr>\n",
              "      <th>37621</th>\n",
              "      <td>c1ec14ff-f6d7-4b38-b0cb-fe07041cbdc8</td>\n",
              "      <td>Lung Opacity</td>\n",
              "      <td>1</td>\n",
              "      <td>17.0</td>\n",
              "      <td>27.0</td>\n",
              "      <td>74.0</td>\n",
              "      <td>121.0</td>\n",
              "    </tr>\n",
              "    <tr>\n",
              "      <th>37623</th>\n",
              "      <td>c1edf42b-5958-47ff-a1e7-4f23d99583ba</td>\n",
              "      <td>Normal</td>\n",
              "      <td>0</td>\n",
              "      <td>NaN</td>\n",
              "      <td>NaN</td>\n",
              "      <td>NaN</td>\n",
              "      <td>NaN</td>\n",
              "    </tr>\n",
              "    <tr>\n",
              "      <th>37624</th>\n",
              "      <td>c1f6b555-2eb1-4231-98f6-50a963976431</td>\n",
              "      <td>Normal</td>\n",
              "      <td>0</td>\n",
              "      <td>NaN</td>\n",
              "      <td>NaN</td>\n",
              "      <td>NaN</td>\n",
              "      <td>NaN</td>\n",
              "    </tr>\n",
              "    <tr>\n",
              "      <th>37625</th>\n",
              "      <td>c1f7889a-9ea9-4acb-b64c-b737c929599a</td>\n",
              "      <td>Lung Opacity</td>\n",
              "      <td>1</td>\n",
              "      <td>109.0</td>\n",
              "      <td>55.0</td>\n",
              "      <td>175.0</td>\n",
              "      <td>141.0</td>\n",
              "    </tr>\n",
              "    <tr>\n",
              "      <th>37627</th>\n",
              "      <td>c1f7889a-9ea9-4acb-b64c-b737c929599a</td>\n",
              "      <td>Lung Opacity</td>\n",
              "      <td>1</td>\n",
              "      <td>33.0</td>\n",
              "      <td>61.0</td>\n",
              "      <td>83.0</td>\n",
              "      <td>150.0</td>\n",
              "    </tr>\n",
              "  </tbody>\n",
              "</table>\n",
              "<p>30227 rows × 7 columns</p>\n",
              "</div>"
            ],
            "text/plain": [
              "                                  patientId  ...   ymax\n",
              "0      0004cfab-14fd-4e49-80ba-63a80b6bddd6  ...    NaN\n",
              "1      00313ee0-9eaa-42f4-b0ab-c148ed3241cd  ...    NaN\n",
              "2      00322d4d-1c29-4943-afc9-b6754be640eb  ...    NaN\n",
              "3      003d8fa0-6bf1-40ed-b54c-ac657f8495c5  ...    NaN\n",
              "4      00436515-870c-4b36-a041-de91049b9ab4  ...   85.0\n",
              "...                                     ...  ...    ...\n",
              "37621  c1ec14ff-f6d7-4b38-b0cb-fe07041cbdc8  ...  121.0\n",
              "37623  c1edf42b-5958-47ff-a1e7-4f23d99583ba  ...    NaN\n",
              "37624  c1f6b555-2eb1-4231-98f6-50a963976431  ...    NaN\n",
              "37625  c1f7889a-9ea9-4acb-b64c-b737c929599a  ...  141.0\n",
              "37627  c1f7889a-9ea9-4acb-b64c-b737c929599a  ...  150.0\n",
              "\n",
              "[30227 rows x 7 columns]"
            ]
          },
          "metadata": {
            "tags": []
          },
          "execution_count": 267
        }
      ]
    },
    {
      "cell_type": "code",
      "metadata": {
        "id": "vfoEyKe95mkQ"
      },
      "source": [
        "train_labels_data = train_labels_data.replace(to_replace =[\"Lung Opacity\"],  \r\n",
        "                            value =\"pnemonia\") "
      ],
      "execution_count": 268,
      "outputs": []
    },
    {
      "cell_type": "code",
      "metadata": {
        "id": "w-D8dNDf0HJS"
      },
      "source": [
        "train_labels_data = train_labels_data.replace(to_replace =[\"No Lung Opacity / Not Normal\"],  \r\n",
        "                            value =\"not_normal\") \r\n"
      ],
      "execution_count": 269,
      "outputs": []
    },
    {
      "cell_type": "code",
      "metadata": {
        "id": "4cM7reTr0MdM"
      },
      "source": [
        "train_labels_data = train_labels_data.replace(to_replace =[\"Normal\"],  \r\n",
        "                            value =\"normal\")"
      ],
      "execution_count": 270,
      "outputs": []
    },
    {
      "cell_type": "code",
      "metadata": {
        "id": "klC-2Dj3MiLf"
      },
      "source": [
        "train_labels_data = train_labels_data.fillna(-1)"
      ],
      "execution_count": 271,
      "outputs": []
    },
    {
      "cell_type": "code",
      "metadata": {
        "id": "1l3gEZfn0bXj",
        "colab": {
          "base_uri": "https://localhost:8080/",
          "height": 419
        },
        "outputId": "46d28485-bbcd-4642-8462-fb60b71aa322"
      },
      "source": [
        "train_labels_data.drop_duplicates()\r\n",
        "\r\n",
        "#train_labels_data=train_labels_data.loc[(train_labels_data['Target']==1)]\r\n",
        "\r\n"
      ],
      "execution_count": 272,
      "outputs": [
        {
          "output_type": "execute_result",
          "data": {
            "text/html": [
              "<div>\n",
              "<style scoped>\n",
              "    .dataframe tbody tr th:only-of-type {\n",
              "        vertical-align: middle;\n",
              "    }\n",
              "\n",
              "    .dataframe tbody tr th {\n",
              "        vertical-align: top;\n",
              "    }\n",
              "\n",
              "    .dataframe thead th {\n",
              "        text-align: right;\n",
              "    }\n",
              "</style>\n",
              "<table border=\"1\" class=\"dataframe\">\n",
              "  <thead>\n",
              "    <tr style=\"text-align: right;\">\n",
              "      <th></th>\n",
              "      <th>patientId</th>\n",
              "      <th>class</th>\n",
              "      <th>Target</th>\n",
              "      <th>xmin</th>\n",
              "      <th>ymin</th>\n",
              "      <th>xmax</th>\n",
              "      <th>ymax</th>\n",
              "    </tr>\n",
              "  </thead>\n",
              "  <tbody>\n",
              "    <tr>\n",
              "      <th>0</th>\n",
              "      <td>0004cfab-14fd-4e49-80ba-63a80b6bddd6</td>\n",
              "      <td>not_normal</td>\n",
              "      <td>0</td>\n",
              "      <td>-1.0</td>\n",
              "      <td>-1.0</td>\n",
              "      <td>-1.0</td>\n",
              "      <td>-1.0</td>\n",
              "    </tr>\n",
              "    <tr>\n",
              "      <th>1</th>\n",
              "      <td>00313ee0-9eaa-42f4-b0ab-c148ed3241cd</td>\n",
              "      <td>not_normal</td>\n",
              "      <td>0</td>\n",
              "      <td>-1.0</td>\n",
              "      <td>-1.0</td>\n",
              "      <td>-1.0</td>\n",
              "      <td>-1.0</td>\n",
              "    </tr>\n",
              "    <tr>\n",
              "      <th>2</th>\n",
              "      <td>00322d4d-1c29-4943-afc9-b6754be640eb</td>\n",
              "      <td>not_normal</td>\n",
              "      <td>0</td>\n",
              "      <td>-1.0</td>\n",
              "      <td>-1.0</td>\n",
              "      <td>-1.0</td>\n",
              "      <td>-1.0</td>\n",
              "    </tr>\n",
              "    <tr>\n",
              "      <th>3</th>\n",
              "      <td>003d8fa0-6bf1-40ed-b54c-ac657f8495c5</td>\n",
              "      <td>normal</td>\n",
              "      <td>0</td>\n",
              "      <td>-1.0</td>\n",
              "      <td>-1.0</td>\n",
              "      <td>-1.0</td>\n",
              "      <td>-1.0</td>\n",
              "    </tr>\n",
              "    <tr>\n",
              "      <th>4</th>\n",
              "      <td>00436515-870c-4b36-a041-de91049b9ab4</td>\n",
              "      <td>pnemonia</td>\n",
              "      <td>1</td>\n",
              "      <td>39.0</td>\n",
              "      <td>-9.0</td>\n",
              "      <td>92.0</td>\n",
              "      <td>85.0</td>\n",
              "    </tr>\n",
              "    <tr>\n",
              "      <th>...</th>\n",
              "      <td>...</td>\n",
              "      <td>...</td>\n",
              "      <td>...</td>\n",
              "      <td>...</td>\n",
              "      <td>...</td>\n",
              "      <td>...</td>\n",
              "      <td>...</td>\n",
              "    </tr>\n",
              "    <tr>\n",
              "      <th>37621</th>\n",
              "      <td>c1ec14ff-f6d7-4b38-b0cb-fe07041cbdc8</td>\n",
              "      <td>pnemonia</td>\n",
              "      <td>1</td>\n",
              "      <td>17.0</td>\n",
              "      <td>27.0</td>\n",
              "      <td>74.0</td>\n",
              "      <td>121.0</td>\n",
              "    </tr>\n",
              "    <tr>\n",
              "      <th>37623</th>\n",
              "      <td>c1edf42b-5958-47ff-a1e7-4f23d99583ba</td>\n",
              "      <td>normal</td>\n",
              "      <td>0</td>\n",
              "      <td>-1.0</td>\n",
              "      <td>-1.0</td>\n",
              "      <td>-1.0</td>\n",
              "      <td>-1.0</td>\n",
              "    </tr>\n",
              "    <tr>\n",
              "      <th>37624</th>\n",
              "      <td>c1f6b555-2eb1-4231-98f6-50a963976431</td>\n",
              "      <td>normal</td>\n",
              "      <td>0</td>\n",
              "      <td>-1.0</td>\n",
              "      <td>-1.0</td>\n",
              "      <td>-1.0</td>\n",
              "      <td>-1.0</td>\n",
              "    </tr>\n",
              "    <tr>\n",
              "      <th>37625</th>\n",
              "      <td>c1f7889a-9ea9-4acb-b64c-b737c929599a</td>\n",
              "      <td>pnemonia</td>\n",
              "      <td>1</td>\n",
              "      <td>109.0</td>\n",
              "      <td>55.0</td>\n",
              "      <td>175.0</td>\n",
              "      <td>141.0</td>\n",
              "    </tr>\n",
              "    <tr>\n",
              "      <th>37627</th>\n",
              "      <td>c1f7889a-9ea9-4acb-b64c-b737c929599a</td>\n",
              "      <td>pnemonia</td>\n",
              "      <td>1</td>\n",
              "      <td>33.0</td>\n",
              "      <td>61.0</td>\n",
              "      <td>83.0</td>\n",
              "      <td>150.0</td>\n",
              "    </tr>\n",
              "  </tbody>\n",
              "</table>\n",
              "<p>30227 rows × 7 columns</p>\n",
              "</div>"
            ],
            "text/plain": [
              "                                  patientId       class  ...   xmax   ymax\n",
              "0      0004cfab-14fd-4e49-80ba-63a80b6bddd6  not_normal  ...   -1.0   -1.0\n",
              "1      00313ee0-9eaa-42f4-b0ab-c148ed3241cd  not_normal  ...   -1.0   -1.0\n",
              "2      00322d4d-1c29-4943-afc9-b6754be640eb  not_normal  ...   -1.0   -1.0\n",
              "3      003d8fa0-6bf1-40ed-b54c-ac657f8495c5      normal  ...   -1.0   -1.0\n",
              "4      00436515-870c-4b36-a041-de91049b9ab4    pnemonia  ...   92.0   85.0\n",
              "...                                     ...         ...  ...    ...    ...\n",
              "37621  c1ec14ff-f6d7-4b38-b0cb-fe07041cbdc8    pnemonia  ...   74.0  121.0\n",
              "37623  c1edf42b-5958-47ff-a1e7-4f23d99583ba      normal  ...   -1.0   -1.0\n",
              "37624  c1f6b555-2eb1-4231-98f6-50a963976431      normal  ...   -1.0   -1.0\n",
              "37625  c1f7889a-9ea9-4acb-b64c-b737c929599a    pnemonia  ...  175.0  141.0\n",
              "37627  c1f7889a-9ea9-4acb-b64c-b737c929599a    pnemonia  ...   83.0  150.0\n",
              "\n",
              "[30227 rows x 7 columns]"
            ]
          },
          "metadata": {
            "tags": []
          },
          "execution_count": 272
        }
      ]
    },
    {
      "cell_type": "code",
      "metadata": {
        "id": "_xUU1cVyN5Ai"
      },
      "source": [
        "train_labels_data.rename(columns = {'Target':'class_id'}, inplace = True)\r\n",
        "train_labels_data.rename(columns = {'x':'center_x'}, inplace = True)\r\n",
        "train_labels_data.rename(columns = {'y':'center_y'}, inplace = True)\r\n"
      ],
      "execution_count": 273,
      "outputs": []
    },
    {
      "cell_type": "code",
      "metadata": {
        "id": "VzByL1JOYAU2"
      },
      "source": [
        "from keras.optimizers import Adam, SGD\n",
        "from keras.callbacks import ModelCheckpoint, LearningRateScheduler, TerminateOnNaN, CSVLogger\n",
        "from keras import backend as K\n",
        "from keras.models import Model\n",
        "from math import ceil\n",
        "import numpy as np\n",
        "from matplotlib import pyplot as plt\n",
        "\n",
        "from models.keras_ssd300 import ssd_300\n",
        "from keras_loss_function.keras_ssd_loss import SSDLoss\n",
        "from keras_layers.keras_layer_AnchorBoxes import AnchorBoxes\n",
        "from keras_layers.keras_layer_DecodeDetections import DecodeDetections\n",
        "from keras_layers.keras_layer_DecodeDetectionsFast import DecodeDetectionsFast\n",
        "from keras_layers.keras_layer_L2Normalization import L2Normalization\n",
        "\n",
        "from ssd_encoder_decoder.ssd_input_encoder import SSDInputEncoder\n",
        "from ssd_encoder_decoder.ssd_output_decoder import decode_detections, decode_detections_fast\n",
        "\n",
        "from data_generator.object_detection_2d_data_generator import DataGenerator\n",
        "from data_generator.object_detection_2d_geometric_ops import Resize\n",
        "from data_generator.object_detection_2d_photometric_ops import ConvertTo3Channels\n",
        "from data_generator.data_augmentation_chain_original_ssd import SSDDataAugmentation\n",
        "from data_generator.object_detection_2d_misc_utils import apply_inverse_transforms\n",
        "\n",
        "%matplotlib inline\n",
        "\n"
      ],
      "execution_count": 274,
      "outputs": []
    },
    {
      "cell_type": "code",
      "metadata": {
        "colab": {
          "base_uri": "https://localhost:8080/"
        },
        "id": "kTuG-eWIdzO4",
        "outputId": "1d2d38fc-cf4a-42f9-9f30-cf2389d9122f"
      },
      "source": [
        "# create training and validation data\r\n",
        "folder = proj_path+'data/positive'\r\n",
        "filenames = os.listdir(folder)\r\n",
        "\r\n",
        "random.shuffle(filenames)\r\n",
        "# split into train and validation filenames\r\n",
        "n_valid_samples = 1200\r\n",
        "n_train_samples = len(filenames) - n_valid_samples\r\n",
        "train_filenames = filenames[n_valid_samples:]\r\n",
        "valid_filenames = filenames[:n_valid_samples]\r\n",
        "print('Total file samples:', len(filenames))\r\n",
        "print('Train samples (80%):', len(train_filenames))\r\n",
        "print('Valid samples (20%):', len(valid_filenames))"
      ],
      "execution_count": 275,
      "outputs": [
        {
          "output_type": "stream",
          "text": [
            "Total file samples: 6012\n",
            "Train samples (80%): 4812\n",
            "Valid samples (20%): 1200\n"
          ],
          "name": "stdout"
        }
      ]
    },
    {
      "cell_type": "code",
      "metadata": {
        "id": "qIzh3aLseWkP"
      },
      "source": [
        "tl = pd.DataFrame(train_filenames)\r\n",
        "tl.columns = [\"image_name\"]\r\n",
        "tl[\"patientId\"] = tl[\"image_name\"]\r\n",
        "tl[\"patientId\"]= tl[\"patientId\"].str.split(\".\", n = 1, expand = True)\r\n",
        "tl.head()\r\n",
        "\r\n",
        "tldata = tl.merge(train_labels_data, on='patientId', how='inner', left_index=True, right_index=True)\r\n",
        "tldata.drop_duplicates()\r\n",
        "tldata.reset_index(inplace=True)\r\n",
        "tldata = tldata.rename(columns = {'index':'id'})"
      ],
      "execution_count": 276,
      "outputs": []
    },
    {
      "cell_type": "code",
      "metadata": {
        "id": "i6FnE53LefTQ"
      },
      "source": [
        "tldata1 = tldata[[\"image_name\",\"xmin\",\"ymin\",\"xmax\",\"ymax\",\"class_id\"]]"
      ],
      "execution_count": 277,
      "outputs": []
    },
    {
      "cell_type": "code",
      "metadata": {
        "colab": {
          "base_uri": "https://localhost:8080/",
          "height": 419
        },
        "id": "rXJVj0S3ehmi",
        "outputId": "27569ef0-91ae-4926-cb1f-c6beee2f25bf"
      },
      "source": [
        "tldata1"
      ],
      "execution_count": 278,
      "outputs": [
        {
          "output_type": "execute_result",
          "data": {
            "text/html": [
              "<div>\n",
              "<style scoped>\n",
              "    .dataframe tbody tr th:only-of-type {\n",
              "        vertical-align: middle;\n",
              "    }\n",
              "\n",
              "    .dataframe tbody tr th {\n",
              "        vertical-align: top;\n",
              "    }\n",
              "\n",
              "    .dataframe thead th {\n",
              "        text-align: right;\n",
              "    }\n",
              "</style>\n",
              "<table border=\"1\" class=\"dataframe\">\n",
              "  <thead>\n",
              "    <tr style=\"text-align: right;\">\n",
              "      <th></th>\n",
              "      <th>image_name</th>\n",
              "      <th>xmin</th>\n",
              "      <th>ymin</th>\n",
              "      <th>xmax</th>\n",
              "      <th>ymax</th>\n",
              "      <th>class_id</th>\n",
              "    </tr>\n",
              "  </thead>\n",
              "  <tbody>\n",
              "    <tr>\n",
              "      <th>0</th>\n",
              "      <td>738524e2-9e98-43cb-8c56-b480a2a0ae2f.jpg</td>\n",
              "      <td>-1.0</td>\n",
              "      <td>-1.0</td>\n",
              "      <td>-1.0</td>\n",
              "      <td>-1.0</td>\n",
              "      <td>0</td>\n",
              "    </tr>\n",
              "    <tr>\n",
              "      <th>1</th>\n",
              "      <td>8a546535-613f-49b1-897c-a0933c53cb84.jpg</td>\n",
              "      <td>-1.0</td>\n",
              "      <td>-1.0</td>\n",
              "      <td>-1.0</td>\n",
              "      <td>-1.0</td>\n",
              "      <td>0</td>\n",
              "    </tr>\n",
              "    <tr>\n",
              "      <th>2</th>\n",
              "      <td>3f30761d-5615-4039-a155-0fd26f461742.jpg</td>\n",
              "      <td>-1.0</td>\n",
              "      <td>-1.0</td>\n",
              "      <td>-1.0</td>\n",
              "      <td>-1.0</td>\n",
              "      <td>0</td>\n",
              "    </tr>\n",
              "    <tr>\n",
              "      <th>3</th>\n",
              "      <td>39ced0d0-246c-430d-9bea-efc60bfa487c.jpg</td>\n",
              "      <td>-1.0</td>\n",
              "      <td>-1.0</td>\n",
              "      <td>-1.0</td>\n",
              "      <td>-1.0</td>\n",
              "      <td>0</td>\n",
              "    </tr>\n",
              "    <tr>\n",
              "      <th>4</th>\n",
              "      <td>bea23d20-aa4e-41d5-b8e7-22941746e543.jpg</td>\n",
              "      <td>39.0</td>\n",
              "      <td>-9.0</td>\n",
              "      <td>92.0</td>\n",
              "      <td>85.0</td>\n",
              "      <td>1</td>\n",
              "    </tr>\n",
              "    <tr>\n",
              "      <th>...</th>\n",
              "      <td>...</td>\n",
              "      <td>...</td>\n",
              "      <td>...</td>\n",
              "      <td>...</td>\n",
              "      <td>...</td>\n",
              "      <td>...</td>\n",
              "    </tr>\n",
              "    <tr>\n",
              "      <th>4807</th>\n",
              "      <td>20ed5a77-bb84-4c95-b126-714bd59cdfbf.jpg</td>\n",
              "      <td>99.0</td>\n",
              "      <td>76.0</td>\n",
              "      <td>155.0</td>\n",
              "      <td>121.0</td>\n",
              "      <td>1</td>\n",
              "    </tr>\n",
              "    <tr>\n",
              "      <th>4808</th>\n",
              "      <td>1352a7f3-1f0d-4f1f-af05-daa5d7f8624a.jpg</td>\n",
              "      <td>48.0</td>\n",
              "      <td>49.0</td>\n",
              "      <td>85.0</td>\n",
              "      <td>101.0</td>\n",
              "      <td>1</td>\n",
              "    </tr>\n",
              "    <tr>\n",
              "      <th>4809</th>\n",
              "      <td>b154363c-2aa3-4f9d-a0f3-99e32ca63289.jpg</td>\n",
              "      <td>48.0</td>\n",
              "      <td>49.0</td>\n",
              "      <td>85.0</td>\n",
              "      <td>101.0</td>\n",
              "      <td>1</td>\n",
              "    </tr>\n",
              "    <tr>\n",
              "      <th>4810</th>\n",
              "      <td>6222228a-e831-40b9-8d5e-eed896717642.jpg</td>\n",
              "      <td>123.0</td>\n",
              "      <td>60.0</td>\n",
              "      <td>170.0</td>\n",
              "      <td>130.0</td>\n",
              "      <td>1</td>\n",
              "    </tr>\n",
              "    <tr>\n",
              "      <th>4811</th>\n",
              "      <td>3be6cdab-6c53-43c9-ac23-901a8dbd281e.jpg</td>\n",
              "      <td>123.0</td>\n",
              "      <td>60.0</td>\n",
              "      <td>170.0</td>\n",
              "      <td>130.0</td>\n",
              "      <td>1</td>\n",
              "    </tr>\n",
              "  </tbody>\n",
              "</table>\n",
              "<p>4812 rows × 6 columns</p>\n",
              "</div>"
            ],
            "text/plain": [
              "                                    image_name   xmin  ...   ymax  class_id\n",
              "0     738524e2-9e98-43cb-8c56-b480a2a0ae2f.jpg   -1.0  ...   -1.0         0\n",
              "1     8a546535-613f-49b1-897c-a0933c53cb84.jpg   -1.0  ...   -1.0         0\n",
              "2     3f30761d-5615-4039-a155-0fd26f461742.jpg   -1.0  ...   -1.0         0\n",
              "3     39ced0d0-246c-430d-9bea-efc60bfa487c.jpg   -1.0  ...   -1.0         0\n",
              "4     bea23d20-aa4e-41d5-b8e7-22941746e543.jpg   39.0  ...   85.0         1\n",
              "...                                        ...    ...  ...    ...       ...\n",
              "4807  20ed5a77-bb84-4c95-b126-714bd59cdfbf.jpg   99.0  ...  121.0         1\n",
              "4808  1352a7f3-1f0d-4f1f-af05-daa5d7f8624a.jpg   48.0  ...  101.0         1\n",
              "4809  b154363c-2aa3-4f9d-a0f3-99e32ca63289.jpg   48.0  ...  101.0         1\n",
              "4810  6222228a-e831-40b9-8d5e-eed896717642.jpg  123.0  ...  130.0         1\n",
              "4811  3be6cdab-6c53-43c9-ac23-901a8dbd281e.jpg  123.0  ...  130.0         1\n",
              "\n",
              "[4812 rows x 6 columns]"
            ]
          },
          "metadata": {
            "tags": []
          },
          "execution_count": 278
        }
      ]
    },
    {
      "cell_type": "code",
      "metadata": {
        "id": "zRs-Uv0PhLO-"
      },
      "source": [
        "#base_filename = 'tldata.csv'\r\n",
        "#with open(os.path.join(proj_path, base_filename),'w') as outfile:\r\n",
        "#   tldata1.to_csv(outfile)"
      ],
      "execution_count": 279,
      "outputs": []
    },
    {
      "cell_type": "code",
      "metadata": {
        "id": "bDVR5_sRhVK0"
      },
      "source": [
        "vl = pd.DataFrame(valid_filenames)\r\n",
        "vl.columns = [\"image_name\"]\r\n",
        "vl[\"patientId\"] = vl[\"image_name\"]\r\n",
        "vl[\"patientId\"]= vl[\"patientId\"].str.split(\".\", n = 1, expand = True)\r\n",
        "vl.head()\r\n",
        "\r\n",
        "vldata = vl.merge(train_labels_data, on='patientId', how='inner', left_index=True, right_index=True)\r\n",
        "vldata.drop_duplicates()\r\n",
        "vldata.reset_index(inplace=True)\r\n",
        "vldata = vldata.rename(columns = {'index':'id'})"
      ],
      "execution_count": 280,
      "outputs": []
    },
    {
      "cell_type": "code",
      "metadata": {
        "id": "6-1T_6zVhYLw"
      },
      "source": [
        "vldata1 = vldata[[\"image_name\",\"xmin\",\"ymin\",\"xmax\",\"ymax\",\"class_id\"]]"
      ],
      "execution_count": 281,
      "outputs": []
    },
    {
      "cell_type": "code",
      "metadata": {
        "id": "K970n2GphbTO"
      },
      "source": [
        "#base_filename = 'vldata.csv'\r\n",
        "#with open(os.path.join(proj_path, base_filename),'w') as outfile:\r\n",
        "#   vldata1.to_csv(outfile)"
      ],
      "execution_count": 282,
      "outputs": []
    },
    {
      "cell_type": "code",
      "metadata": {
        "id": "Ux7WwuDUKEsg"
      },
      "source": [
        "data_dir = proj_path+'data/positive'\r\n",
        "train_image_dir = proj_path+'test_train/'\r\n",
        "val_image_dir = proj_path+'test_val/'\r\n",
        "train_annotations_file = proj_path+'tldata.csv'\r\n",
        "val_annotations_file = proj_path+'vldata.csv'\r\n"
      ],
      "execution_count": null,
      "outputs": []
    },
    {
      "cell_type": "code",
      "metadata": {
        "id": "4wvcrumFjJ1m"
      },
      "source": [
        "import os\r\n",
        "os.environ['TF_CPP_MIN_LOG_LEVEL'] = '2' \r\n",
        "import tensorflow as tf"
      ],
      "execution_count": 283,
      "outputs": []
    },
    {
      "cell_type": "code",
      "metadata": {
        "id": "kNqL6UHNjJyJ"
      },
      "source": [
        "from tensorflow.keras.optimizers import Adam\r\n",
        "from tensorflow.keras.callbacks import ModelCheckpoint, EarlyStopping, ReduceLROnPlateau, TerminateOnNaN, CSVLogger\r\n",
        "from tensorflow.keras import backend as K\r\n",
        "from tensorflow.keras.models import load_model\r\n",
        "from math import ceil\r\n",
        "import numpy as np\r\n",
        "from matplotlib import pyplot as plt\r\n",
        "\r\n",
        "from models.keras_ssd7 import build_model\r\n",
        "from keras_loss_function.keras_ssd_loss import SSDLoss\r\n",
        "from keras_layers.keras_layer_AnchorBoxes import AnchorBoxes\r\n",
        "from keras_layers.keras_layer_DecodeDetections import DecodeDetections\r\n",
        "from keras_layers.keras_layer_DecodeDetectionsFast import DecodeDetectionsFast\r\n",
        "\r\n",
        "from ssd_encoder_decoder.ssd_input_encoder import SSDInputEncoder\r\n",
        "from ssd_encoder_decoder.ssd_output_decoder import decode_detections, decode_detections_fast\r\n",
        "\r\n",
        "from data_generator.object_detection_2d_data_generator import DataGenerator\r\n",
        "from data_generator.object_detection_2d_misc_utils import apply_inverse_transforms\r\n",
        "from data_generator.data_augmentation_chain_variable_input_size import DataAugmentationVariableInputSize\r\n",
        "from data_generator.data_augmentation_chain_constant_input_size import DataAugmentationConstantInputSize\r\n",
        "from data_generator.data_augmentation_chain_original_ssd import SSDDataAugmentation\r\n",
        "\r\n",
        "%matplotlib inline"
      ],
      "execution_count": 284,
      "outputs": []
    },
    {
      "cell_type": "code",
      "metadata": {
        "id": "0Teix_ByjL-N"
      },
      "source": [
        "img_height = 256\r\n",
        "img_width = 256\r\n",
        "img_channels =3\r\n",
        "\r\n",
        "intensity_mean = 127.5\r\n",
        "intensity_range = 127.5\r\n",
        "\r\n",
        "n_classes = 5\r\n",
        "scales = [0.08, 0.16, 0.32, 0.64, 0.96]\r\n",
        "aspect_ratios = [0.5, 1.0, 2.0]\r\n",
        "two_boxes_for_ar1 = True\r\n",
        "steps = None\r\n",
        "offsets = None\r\n",
        "clip_boxes = False\r\n",
        "variances = [1.0, 1.0, 1.0, 1.0]\r\n",
        "normalize_coords = True"
      ],
      "execution_count": 285,
      "outputs": []
    },
    {
      "cell_type": "code",
      "metadata": {
        "id": "puwktVVSjZYW"
      },
      "source": [
        "K.clear_session()\r\n",
        "\r\n",
        "model = build_model(image_size=(img_height, img_width, img_channels),\r\n",
        "                    n_classes=n_classes,\r\n",
        "                    mode='training',\r\n",
        "                    l2_regularization=0.0005,\r\n",
        "                    scales=scales,\r\n",
        "                    aspect_ratios_global=aspect_ratios,\r\n",
        "                    aspect_ratios_per_layer=None,\r\n",
        "                    two_boxes_for_ar1=two_boxes_for_ar1,\r\n",
        "                    steps=steps,\r\n",
        "                    offsets=offsets,\r\n",
        "                    clip_boxes=clip_boxes,\r\n",
        "                    variances=variances,\r\n",
        "                    normalize_coords=normalize_coords,\r\n",
        "                    subtract_mean=intensity_mean,\r\n",
        "                    divide_by_stddev=intensity_range)"
      ],
      "execution_count": 286,
      "outputs": []
    },
    {
      "cell_type": "code",
      "metadata": {
        "id": "g1XOj1gpjdcW"
      },
      "source": [
        "model.load_weights(proj_path +'ssd7_weights.h5')\r\n",
        "\r\n",
        "adam = Adam(lr=0.001, beta_1=0.9, beta_2=0.999, epsilon=1e-08, decay=0.0)\r\n",
        "\r\n",
        "ssd_loss = SSDLoss(neg_pos_ratio=3, alpha=1.0)\r\n",
        "\r\n",
        "model.compile(optimizer=adam, loss=ssd_loss.compute_loss)"
      ],
      "execution_count": 287,
      "outputs": []
    },
    {
      "cell_type": "code",
      "metadata": {
        "id": "g8OR8vNPm5m7"
      },
      "source": [
        "train_dataset = DataGenerator(load_images_into_memory=False, hdf5_dataset_path=None)\r\n",
        "val_dataset = DataGenerator(load_images_into_memory=False, hdf5_dataset_path=None)"
      ],
      "execution_count": 288,
      "outputs": []
    },
    {
      "cell_type": "code",
      "metadata": {
        "id": "m_ja-e3QnEFR"
      },
      "source": [
        "images_dir = proj_path+'data/positive/'\r\n",
        "\r\n",
        "train_labels_filename = proj_path+'tldata.csv'\r\n",
        "val_labels_filename   = proj_path+'vldata.csv'\r\n"
      ],
      "execution_count": 289,
      "outputs": []
    },
    {
      "cell_type": "code",
      "metadata": {
        "id": "ceY0SWKBnxNl"
      },
      "source": [
        "train_dataset.parse_csv(images_dir=images_dir,\r\n",
        "                        labels_filename=train_labels_filename,\r\n",
        "                        input_format=['image_name', 'xmin', 'xmax', 'ymin', 'ymax', 'class_id'],\r\n",
        "                        include_classes='all')\r\n",
        "\r\n",
        "val_dataset.parse_csv(images_dir=images_dir,\r\n",
        "                      labels_filename=val_labels_filename,\r\n",
        "                      input_format=['image_name', 'xmin', 'xmax', 'ymin', 'ymax', 'class_id'],\r\n",
        "                      include_classes='all')"
      ],
      "execution_count": 290,
      "outputs": []
    },
    {
      "cell_type": "code",
      "metadata": {
        "colab": {
          "base_uri": "https://localhost:8080/"
        },
        "id": "QjhzuJ-9n5Db",
        "outputId": "f115469c-24ce-4c1a-8303-deed91921241"
      },
      "source": [
        "train_dataset_size = train_dataset.get_dataset_size()\r\n",
        "val_dataset_size   = val_dataset.get_dataset_size()\r\n",
        "\r\n",
        "print(\"Number of images in the training dataset:\\t{:>6}\".format(train_dataset_size))\r\n",
        "print(\"Number of images in the validation dataset:\\t{:>6}\".format(val_dataset_size))"
      ],
      "execution_count": 291,
      "outputs": [
        {
          "output_type": "stream",
          "text": [
            "Number of images in the training dataset:\t  4812\n",
            "Number of images in the validation dataset:\t  1200\n"
          ],
          "name": "stdout"
        }
      ]
    },
    {
      "cell_type": "code",
      "metadata": {
        "id": "_IKco3TKoDVo"
      },
      "source": [
        "batch_size = 32\r\n",
        "\r\n",
        "data_augmentation_chain = DataAugmentationConstantInputSize(random_brightness=(-48, 48, 0.5),\r\n",
        "                                                            random_contrast=(0.5, 1.8, 0.5),\r\n",
        "                                                            random_saturation=(0.5, 1.8, 0.5),\r\n",
        "                                                            random_hue=(18, 0.5),\r\n",
        "                                                            random_flip=0.5,\r\n",
        "                                                            random_translate=((0.03,0.5), (0.03,0.5), 0.5),\r\n",
        "                                                            random_scale=(0.5, 2.0, 0.5),\r\n",
        "                                                            n_trials_max=3,\r\n",
        "                                                            clip_boxes=True,\r\n",
        "                                                            overlap_criterion='area',\r\n",
        "                                                            bounds_box_filter=(0.3, 1.0),\r\n",
        "                                                            bounds_validator=(0.5, 1.0),\r\n",
        "                                                            n_boxes_min=1,\r\n",
        "                                                            background=(0,0,0))\r\n"
      ],
      "execution_count": 292,
      "outputs": []
    },
    {
      "cell_type": "code",
      "metadata": {
        "id": "HSNltCULoF9b"
      },
      "source": [
        "predictor_sizes = [model.get_layer('classes4').output_shape[1:3],\r\n",
        "                   model.get_layer('classes5').output_shape[1:3],\r\n",
        "                   model.get_layer('classes6').output_shape[1:3],\r\n",
        "                   model.get_layer('classes7').output_shape[1:3]]"
      ],
      "execution_count": 293,
      "outputs": []
    },
    {
      "cell_type": "code",
      "metadata": {
        "id": "I3k6Q6CMoLTb"
      },
      "source": [
        "ssd_input_encoder = SSDInputEncoder(img_height=img_height,\r\n",
        "                                    img_width=img_width,\r\n",
        "                                    n_classes=n_classes,\r\n",
        "                                    predictor_sizes=predictor_sizes,\r\n",
        "                                    scales=scales,\r\n",
        "                                    aspect_ratios_global=aspect_ratios,\r\n",
        "                                    two_boxes_for_ar1=two_boxes_for_ar1,\r\n",
        "                                    steps=steps,\r\n",
        "                                    offsets=offsets,\r\n",
        "                                    clip_boxes=clip_boxes,\r\n",
        "                                    variances=variances,\r\n",
        "                                    matching_type='multi',\r\n",
        "                                    pos_iou_threshold=0.5,\r\n",
        "                                    neg_iou_limit=0.3,\r\n",
        "                                    normalize_coords=normalize_coords)"
      ],
      "execution_count": 294,
      "outputs": []
    },
    {
      "cell_type": "code",
      "metadata": {
        "id": "KJCjxwZNoTOQ"
      },
      "source": [
        "train_generator = train_dataset.generate(batch_size=batch_size,\r\n",
        "                                         shuffle=True,\r\n",
        "                                         transformations=[data_augmentation_chain],\r\n",
        "                                         label_encoder=ssd_input_encoder,\r\n",
        "                                         returns={'processed_images',\r\n",
        "                                                  'encoded_labels'},\r\n",
        "                                         keep_images_without_gt=False)\r\n",
        "\r\n",
        "val_generator = val_dataset.generate(batch_size=batch_size,\r\n",
        "                                     shuffle=False,\r\n",
        "                                     transformations=[],\r\n",
        "                                     label_encoder=ssd_input_encoder,\r\n",
        "                                     returns={'processed_images',\r\n",
        "                                              'encoded_labels'},\r\n",
        "                                     keep_images_without_gt=False)"
      ],
      "execution_count": 295,
      "outputs": []
    },
    {
      "cell_type": "code",
      "metadata": {
        "id": "99Kc7dE9oXfR"
      },
      "source": [
        "model_checkpoint = ModelCheckpoint(filepath='ssd7_weights.h5',\r\n",
        "                                   monitor='val_loss',\r\n",
        "                                   verbose=1,\r\n",
        "                                   save_best_only=True,\r\n",
        "                                   save_weights_only=False,\r\n",
        "                                   mode='auto')\r\n",
        "\r\n",
        "early_stopping = EarlyStopping(monitor='val_loss',\r\n",
        "                               min_delta=0.0,\r\n",
        "                               patience=10,\r\n",
        "                               verbose=1)\r\n",
        "\r\n",
        "reduce_learning_rate = ReduceLROnPlateau(monitor='val_loss',\r\n",
        "                                         factor=0.2,\r\n",
        "                                         patience=8,\r\n",
        "                                         verbose=1,\r\n",
        "                                         min_delta=0.001,\r\n",
        "                                         cooldown=0,\r\n",
        "                                         min_lr=0.00001)\r\n",
        "\r\n",
        "callbacks = [model_checkpoint,\r\n",
        "             early_stopping,\r\n",
        "             reduce_learning_rate]\r\n"
      ],
      "execution_count": 296,
      "outputs": []
    },
    {
      "cell_type": "code",
      "metadata": {
        "id": "k-DDuAPsoeLM"
      },
      "source": [
        "def train(model):\r\n",
        "    initial_epoch   = 0\r\n",
        "    final_epoch     = 20\r\n",
        "    steps_per_epoch = 1000\r\n",
        "\r\n",
        "    history = model.fit_generator(generator=train_generator,\r\n",
        "                                steps_per_epoch=steps_per_epoch,\r\n",
        "                                epochs=final_epoch,\r\n",
        "                                callbacks=callbacks,\r\n",
        "                                validation_data=val_generator,\r\n",
        "                                validation_steps=ceil(val_dataset_size/batch_size),\r\n",
        "                                initial_epoch=initial_epoch)\r\n",
        "\r\n",
        "    plt.figure(figsize=(20,12))\r\n",
        "    plt.plot(history.history['loss'], label='loss')\r\n",
        "    plt.plot(history.history['val_loss'], label='val_loss')\r\n",
        "    plt.legend(loc='upper right', prop={'size': 24})\r\n",
        "\r\n",
        "    return model"
      ],
      "execution_count": 297,
      "outputs": []
    },
    {
      "cell_type": "code",
      "metadata": {
        "colab": {
          "base_uri": "https://localhost:8080/"
        },
        "id": "Ao_GVQuNq_O_",
        "outputId": "6d250185-8a96-4905-a480-3aadb18a0417"
      },
      "source": [
        "model.summary()"
      ],
      "execution_count": 298,
      "outputs": [
        {
          "output_type": "stream",
          "text": [
            "Model: \"model\"\n",
            "__________________________________________________________________________________________________\n",
            "Layer (type)                    Output Shape         Param #     Connected to                     \n",
            "==================================================================================================\n",
            "input_1 (InputLayer)            [(None, 256, 256, 3) 0                                            \n",
            "__________________________________________________________________________________________________\n",
            "identity_layer (Lambda)         (None, 256, 256, 3)  0           input_1[0][0]                    \n",
            "__________________________________________________________________________________________________\n",
            "input_mean_normalization (Lambd (None, 256, 256, 3)  0           identity_layer[0][0]             \n",
            "__________________________________________________________________________________________________\n",
            "input_stddev_normalization (Lam (None, 256, 256, 3)  0           input_mean_normalization[0][0]   \n",
            "__________________________________________________________________________________________________\n",
            "conv1 (Conv2D)                  (None, 256, 256, 32) 2432        input_stddev_normalization[0][0] \n",
            "__________________________________________________________________________________________________\n",
            "bn1 (BatchNormalization)        (None, 256, 256, 32) 128         conv1[0][0]                      \n",
            "__________________________________________________________________________________________________\n",
            "elu1 (ELU)                      (None, 256, 256, 32) 0           bn1[0][0]                        \n",
            "__________________________________________________________________________________________________\n",
            "pool1 (MaxPooling2D)            (None, 128, 128, 32) 0           elu1[0][0]                       \n",
            "__________________________________________________________________________________________________\n",
            "conv2 (Conv2D)                  (None, 128, 128, 48) 13872       pool1[0][0]                      \n",
            "__________________________________________________________________________________________________\n",
            "bn2 (BatchNormalization)        (None, 128, 128, 48) 192         conv2[0][0]                      \n",
            "__________________________________________________________________________________________________\n",
            "elu2 (ELU)                      (None, 128, 128, 48) 0           bn2[0][0]                        \n",
            "__________________________________________________________________________________________________\n",
            "pool2 (MaxPooling2D)            (None, 64, 64, 48)   0           elu2[0][0]                       \n",
            "__________________________________________________________________________________________________\n",
            "conv3 (Conv2D)                  (None, 64, 64, 64)   27712       pool2[0][0]                      \n",
            "__________________________________________________________________________________________________\n",
            "bn3 (BatchNormalization)        (None, 64, 64, 64)   256         conv3[0][0]                      \n",
            "__________________________________________________________________________________________________\n",
            "elu3 (ELU)                      (None, 64, 64, 64)   0           bn3[0][0]                        \n",
            "__________________________________________________________________________________________________\n",
            "pool3 (MaxPooling2D)            (None, 32, 32, 64)   0           elu3[0][0]                       \n",
            "__________________________________________________________________________________________________\n",
            "conv4 (Conv2D)                  (None, 32, 32, 64)   36928       pool3[0][0]                      \n",
            "__________________________________________________________________________________________________\n",
            "bn4 (BatchNormalization)        (None, 32, 32, 64)   256         conv4[0][0]                      \n",
            "__________________________________________________________________________________________________\n",
            "elu4 (ELU)                      (None, 32, 32, 64)   0           bn4[0][0]                        \n",
            "__________________________________________________________________________________________________\n",
            "pool4 (MaxPooling2D)            (None, 16, 16, 64)   0           elu4[0][0]                       \n",
            "__________________________________________________________________________________________________\n",
            "conv5 (Conv2D)                  (None, 16, 16, 48)   27696       pool4[0][0]                      \n",
            "__________________________________________________________________________________________________\n",
            "bn5 (BatchNormalization)        (None, 16, 16, 48)   192         conv5[0][0]                      \n",
            "__________________________________________________________________________________________________\n",
            "elu5 (ELU)                      (None, 16, 16, 48)   0           bn5[0][0]                        \n",
            "__________________________________________________________________________________________________\n",
            "pool5 (MaxPooling2D)            (None, 8, 8, 48)     0           elu5[0][0]                       \n",
            "__________________________________________________________________________________________________\n",
            "conv6 (Conv2D)                  (None, 8, 8, 48)     20784       pool5[0][0]                      \n",
            "__________________________________________________________________________________________________\n",
            "bn6 (BatchNormalization)        (None, 8, 8, 48)     192         conv6[0][0]                      \n",
            "__________________________________________________________________________________________________\n",
            "elu6 (ELU)                      (None, 8, 8, 48)     0           bn6[0][0]                        \n",
            "__________________________________________________________________________________________________\n",
            "pool6 (MaxPooling2D)            (None, 4, 4, 48)     0           elu6[0][0]                       \n",
            "__________________________________________________________________________________________________\n",
            "conv7 (Conv2D)                  (None, 4, 4, 32)     13856       pool6[0][0]                      \n",
            "__________________________________________________________________________________________________\n",
            "bn7 (BatchNormalization)        (None, 4, 4, 32)     128         conv7[0][0]                      \n",
            "__________________________________________________________________________________________________\n",
            "elu7 (ELU)                      (None, 4, 4, 32)     0           bn7[0][0]                        \n",
            "__________________________________________________________________________________________________\n",
            "classes4 (Conv2D)               (None, 32, 32, 24)   13848       elu4[0][0]                       \n",
            "__________________________________________________________________________________________________\n",
            "classes5 (Conv2D)               (None, 16, 16, 24)   10392       elu5[0][0]                       \n",
            "__________________________________________________________________________________________________\n",
            "classes6 (Conv2D)               (None, 8, 8, 24)     10392       elu6[0][0]                       \n",
            "__________________________________________________________________________________________________\n",
            "classes7 (Conv2D)               (None, 4, 4, 24)     6936        elu7[0][0]                       \n",
            "__________________________________________________________________________________________________\n",
            "boxes4 (Conv2D)                 (None, 32, 32, 16)   9232        elu4[0][0]                       \n",
            "__________________________________________________________________________________________________\n",
            "boxes5 (Conv2D)                 (None, 16, 16, 16)   6928        elu5[0][0]                       \n",
            "__________________________________________________________________________________________________\n",
            "boxes6 (Conv2D)                 (None, 8, 8, 16)     6928        elu6[0][0]                       \n",
            "__________________________________________________________________________________________________\n",
            "boxes7 (Conv2D)                 (None, 4, 4, 16)     4624        elu7[0][0]                       \n",
            "__________________________________________________________________________________________________\n",
            "classes4_reshape (Reshape)      (None, 4096, 6)      0           classes4[0][0]                   \n",
            "__________________________________________________________________________________________________\n",
            "classes5_reshape (Reshape)      (None, 1024, 6)      0           classes5[0][0]                   \n",
            "__________________________________________________________________________________________________\n",
            "classes6_reshape (Reshape)      (None, 256, 6)       0           classes6[0][0]                   \n",
            "__________________________________________________________________________________________________\n",
            "classes7_reshape (Reshape)      (None, 64, 6)        0           classes7[0][0]                   \n",
            "__________________________________________________________________________________________________\n",
            "anchors4 (AnchorBoxes)          (None, 32, 32, 4, 8) 0           boxes4[0][0]                     \n",
            "__________________________________________________________________________________________________\n",
            "anchors5 (AnchorBoxes)          (None, 16, 16, 4, 8) 0           boxes5[0][0]                     \n",
            "__________________________________________________________________________________________________\n",
            "anchors6 (AnchorBoxes)          (None, 8, 8, 4, 8)   0           boxes6[0][0]                     \n",
            "__________________________________________________________________________________________________\n",
            "anchors7 (AnchorBoxes)          (None, 4, 4, 4, 8)   0           boxes7[0][0]                     \n",
            "__________________________________________________________________________________________________\n",
            "classes_concat (Concatenate)    (None, 5440, 6)      0           classes4_reshape[0][0]           \n",
            "                                                                 classes5_reshape[0][0]           \n",
            "                                                                 classes6_reshape[0][0]           \n",
            "                                                                 classes7_reshape[0][0]           \n",
            "__________________________________________________________________________________________________\n",
            "boxes4_reshape (Reshape)        (None, 4096, 4)      0           boxes4[0][0]                     \n",
            "__________________________________________________________________________________________________\n",
            "boxes5_reshape (Reshape)        (None, 1024, 4)      0           boxes5[0][0]                     \n",
            "__________________________________________________________________________________________________\n",
            "boxes6_reshape (Reshape)        (None, 256, 4)       0           boxes6[0][0]                     \n",
            "__________________________________________________________________________________________________\n",
            "boxes7_reshape (Reshape)        (None, 64, 4)        0           boxes7[0][0]                     \n",
            "__________________________________________________________________________________________________\n",
            "anchors4_reshape (Reshape)      (None, 4096, 8)      0           anchors4[0][0]                   \n",
            "__________________________________________________________________________________________________\n",
            "anchors5_reshape (Reshape)      (None, 1024, 8)      0           anchors5[0][0]                   \n",
            "__________________________________________________________________________________________________\n",
            "anchors6_reshape (Reshape)      (None, 256, 8)       0           anchors6[0][0]                   \n",
            "__________________________________________________________________________________________________\n",
            "anchors7_reshape (Reshape)      (None, 64, 8)        0           anchors7[0][0]                   \n",
            "__________________________________________________________________________________________________\n",
            "classes_softmax (Activation)    (None, 5440, 6)      0           classes_concat[0][0]             \n",
            "__________________________________________________________________________________________________\n",
            "boxes_concat (Concatenate)      (None, 5440, 4)      0           boxes4_reshape[0][0]             \n",
            "                                                                 boxes5_reshape[0][0]             \n",
            "                                                                 boxes6_reshape[0][0]             \n",
            "                                                                 boxes7_reshape[0][0]             \n",
            "__________________________________________________________________________________________________\n",
            "anchors_concat (Concatenate)    (None, 5440, 8)      0           anchors4_reshape[0][0]           \n",
            "                                                                 anchors5_reshape[0][0]           \n",
            "                                                                 anchors6_reshape[0][0]           \n",
            "                                                                 anchors7_reshape[0][0]           \n",
            "__________________________________________________________________________________________________\n",
            "predictions (Concatenate)       (None, 5440, 18)     0           classes_softmax[0][0]            \n",
            "                                                                 boxes_concat[0][0]               \n",
            "                                                                 anchors_concat[0][0]             \n",
            "==================================================================================================\n",
            "Total params: 213,904\n",
            "Trainable params: 213,232\n",
            "Non-trainable params: 672\n",
            "__________________________________________________________________________________________________\n"
          ],
          "name": "stdout"
        }
      ]
    },
    {
      "cell_type": "code",
      "metadata": {
        "id": "U6ZKnDQCorkd"
      },
      "source": [
        "predict_generator = val_dataset.generate(batch_size=32,\r\n",
        "                                         shuffle=True,\r\n",
        "                                         transformations=[],\r\n",
        "                                         label_encoder=None,\r\n",
        "                                         returns={'processed_images',\r\n",
        "                                                  'processed_labels',\r\n",
        "                                                  'filenames'},\r\n",
        "                                         keep_images_without_gt=False)\r\n"
      ],
      "execution_count": 299,
      "outputs": []
    },
    {
      "cell_type": "code",
      "metadata": {
        "colab": {
          "base_uri": "https://localhost:8080/"
        },
        "id": "ldUeeJyZowgQ",
        "outputId": "9a34bb39-add8-4d64-b733-724302564cea"
      },
      "source": [
        "batch_images, batch_labels, batch_filenames = next(predict_generator)\r\n",
        "i = 4\r\n",
        "print(\"Image:\", batch_filenames[i])\r\n",
        "print()\r\n",
        "print(\"Ground truth boxes:\\n\")\r\n",
        "print(batch_labels[i])"
      ],
      "execution_count": 352,
      "outputs": [
        {
          "output_type": "stream",
          "text": [
            "Image: /content/drive/My Drive/AIML/data/capstone/data/positive/6f3d76ce-9c4e-4e4c-b344-776d764e1be8.jpg\n",
            "\n",
            "Ground truth boxes:\n",
            "\n",
            "[[  1  27  81 112 170]]\n"
          ],
          "name": "stdout"
        }
      ]
    },
    {
      "cell_type": "code",
      "metadata": {
        "id": "3mX8eGdfpusX"
      },
      "source": [
        "y_pred = model.predict(batch_images)"
      ],
      "execution_count": 353,
      "outputs": []
    },
    {
      "cell_type": "code",
      "metadata": {
        "colab": {
          "base_uri": "https://localhost:8080/"
        },
        "id": "GXgwcYjgoCA0",
        "outputId": "d8493977-ff82-403b-c326-bb7d8ba2bb99"
      },
      "source": [
        "# 4: Decode the raw prediction `y_pred`\r\n",
        "\r\n",
        "y_pred_decoded = decode_detections(y_pred * 266.,\r\n",
        "                                   confidence_thresh=0.5,\r\n",
        "                                   iou_threshold=0.45,\r\n",
        "                                   top_k=200,\r\n",
        "                                   normalize_coords=normalize_coords,\r\n",
        "                                   img_height=img_height,\r\n",
        "                                   img_width=img_width)\r\n",
        "\r\n",
        "np.set_printoptions(precision=2, suppress=True, linewidth=90)\r\n",
        "print(\"Predicted boxes:\\n\")\r\n",
        "print('   class   conf xmin   ymin   xmax   ymax')\r\n",
        "print(y_pred_decoded[i])"
      ],
      "execution_count": 354,
      "outputs": [
        {
          "output_type": "stream",
          "text": [
            "Predicted boxes:\n",
            "\n",
            "   class   conf xmin   ymin   xmax   ymax\n",
            "[[    2.      44.33 30260.16 51540.16 35707.84 56987.84]\n",
            " [    2.      44.33 65105.95 52539.91 68958.05 60244.09]\n",
            " [    2.      44.33   468.16 55796.16  5915.84 61243.84]\n",
            " ...\n",
            " [    2.      44.33 22545.96 61051.91 26398.04 68756.09]\n",
            " [    2.      44.33 24673.96 61051.91 28526.04 68756.09]\n",
            " [    5.      44.33 37793.28 37793.28 81374.72 81374.72]]\n"
          ],
          "name": "stdout"
        }
      ]
    },
    {
      "cell_type": "code",
      "metadata": {
        "colab": {
          "base_uri": "https://localhost:8080/",
          "height": 594
        },
        "id": "hb3gWPbFoJyA",
        "outputId": "3c599a34-b33a-49db-c5c2-e1440445ba62"
      },
      "source": [
        "plt.figure(figsize=(10,10))\r\n",
        "plt.imshow(batch_images[i])\r\n",
        "\r\n",
        "current_axis = plt.gca()\r\n",
        "\r\n",
        "colors = plt.cm.hsv(np.linspace(0, 1, n_classes+1)).tolist()\r\n",
        "classes = ['background', 'pnemonia','Normal','not normal','no opacity','opacity']\r\n",
        "\r\n",
        "for box in batch_labels[i]:\r\n",
        "    xmin = box[1]\r\n",
        "    ymin = box[2]\r\n",
        "    xmax = box[3]\r\n",
        "    ymax = box[4]\r\n",
        "    label = '{}'.format(classes[int(box[0])])\r\n",
        "    current_axis.add_patch(plt.Rectangle((xmin, ymin), xmax-xmin, ymax-ymin, color='green', fill=False, linewidth=2))  \r\n",
        "    current_axis.text(xmin, ymin, label, size='x-large', color='white', bbox={'facecolor':'green', 'alpha':1.0})\r\n",
        "\r\n",
        "for box in y_pred_decoded[i]:\r\n",
        "    xmin = box[-4]\r\n",
        "    ymin = box[-3]\r\n",
        "    xmax = box[-2]\r\n",
        "    ymax = box[-1]\r\n",
        "    color = colors[int(box[0])]\r\n",
        "    label = '{}: {:.2f}'.format(classes[int(box[0])], box[1])\r\n",
        "    current_axis.add_patch(plt.Rectangle((xmin, ymin), xmax-xmin, ymax-ymin, color=color, fill=False, linewidth=2))"
      ],
      "execution_count": 355,
      "outputs": [
        {
          "output_type": "display_data",
          "data": {
            "image/png": "[encoded data removed]",
            "text/plain": [
              "<Figure size 720x720 with 1 Axes>"
            ]
          },
          "metadata": {
            "tags": [],
            "needs_background": "light"
          }
        }
      ]
    }
  ]
}